{
 "cells": [
  {
   "cell_type": "code",
   "execution_count": null,
   "id": "2c0c627d-c066-41b0-95a2-7717882482c6",
   "metadata": {},
   "outputs": [],
   "source": [
    "Q1. Is it permissible to use several import statements to import the same module? What would the\n",
    "goal be? Can you think of a situation where it would be beneficial?"
   ]
  },
  {
   "cell_type": "code",
   "execution_count": null,
   "id": "c9759414-c98b-4607-8b3a-6cf2e8c8040b",
   "metadata": {},
   "outputs": [],
   "source": [
    "Ans: Yes, it is permissible to use several import statements to import the same module. It is used in case when we have to import multiple functions from same module."
   ]
  },
  {
   "cell_type": "code",
   "execution_count": null,
   "id": "2888a8ec-c098-4171-9052-be63390e5444",
   "metadata": {},
   "outputs": [],
   "source": [
    "Q2. What are some of a module&#39;s characteristics? (Name at least one.)"
   ]
  },
  {
   "cell_type": "code",
   "execution_count": null,
   "id": "257ffb2f-75ba-47e3-873e-0898b0aff28f",
   "metadata": {},
   "outputs": [],
   "source": [
    "Ans: The following are some of a module's characteristics:\n",
    "\n",
    "__name__ : It returns the name of the module\n",
    "__doc__ : It denotes the documentation string line written in a module code.\n",
    "__file__ : It holds the name and path of the module file from which it is loaded\n",
    "__dict__ : It return a dictionary object of module attributes, functions and other definitions and their respective values"
   ]
  },
  {
   "cell_type": "code",
   "execution_count": null,
   "id": "57aa3225-e89b-4884-a485-da4fbabac2c3",
   "metadata": {},
   "outputs": [],
   "source": [
    "Q3. Circular importing, such as when two modules import each other, can lead to dependencies and\n",
    "bugs that aren&#39;t visible. How can you go about creating a program that avoids mutual importing?"
   ]
  },
  {
   "cell_type": "code",
   "execution_count": null,
   "id": "9f67ec77-46ad-4de8-87d6-916e06711834",
   "metadata": {},
   "outputs": [],
   "source": [
    "Ans: Circular importing means importing the two modules in each other. If suppose we are wokring in MOD1.py file and it is importing some function say F2() from some other module say MOD2.PY file or we can do vice-versa. What will happen is: This will give an import error.\n",
    "\n",
    "This is because when we import F2() function from module MOD2.py, then this will execute MOD2.py file. And in MOD2.py file there is an another statement of importing MOD1.py module.\n",
    "\n",
    "This will result in endless loop. To avoid this error just do one thingWe can use if __name__ == '__main__'\n",
    "\n",
    "In the function, you can't directly refer to the function in the program. The addition of this sentence avoids the endless loop of the program ."
   ]
  },
  {
   "cell_type": "code",
   "execution_count": null,
   "id": "f351aaee-5cb9-4072-b26a-fa52ce9db1dd",
   "metadata": {},
   "outputs": [],
   "source": [
    "Q4. Why is _ _all_ _ in Python?"
   ]
  },
  {
   "cell_type": "code",
   "execution_count": null,
   "id": "38f34136-7068-4129-9e5f-0e8d09e6ff61",
   "metadata": {},
   "outputs": [],
   "source": [
    "Ans: It provides list of all modules present in a library."
   ]
  },
  {
   "cell_type": "code",
   "execution_count": null,
   "id": "6465753f-7eab-4eb5-ad8e-c0b3cf03aab4",
   "metadata": {},
   "outputs": [],
   "source": [
    "Q5. In what situation is it useful to refer to the _ _name_ _ attribute or the string &#39;_ _main_ _&#39;?"
   ]
  },
  {
   "cell_type": "code",
   "execution_count": null,
   "id": "c0575c08-b391-4759-8730-d3ae76ccde8c",
   "metadata": {},
   "outputs": [],
   "source": [
    "Ans: During the time of execution of the code if we want to refer the module in which we are working on then we uses name attribute. In that case it will return the module in which we are working on. Suppose if that moudle is being imported from some other module then name will have the name of that moudle from where the current module has been imported. The current module in which we are working is refer to the string __main __."
   ]
  },
  {
   "cell_type": "code",
   "execution_count": null,
   "id": "8d1ebbd1-08f1-42f4-a06e-6ceabb65fea1",
   "metadata": {},
   "outputs": [],
   "source": [
    "Q6. What are some of the benefits of attaching a program counter to the RPN interpreter\n",
    "application, which interprets an RPN script line by line?"
   ]
  },
  {
   "cell_type": "code",
   "execution_count": null,
   "id": "63a2ead1-396b-4283-943b-f81f0c7c7369",
   "metadata": {},
   "outputs": [],
   "source": []
  },
  {
   "cell_type": "code",
   "execution_count": null,
   "id": "a419b097-e89d-4c70-b2a8-41f39a17d7d4",
   "metadata": {},
   "outputs": [],
   "source": [
    "Q7. What are the minimum expressions or statements (or both) that you&#39;d need to render a basic\n",
    "programming language like RPN primitive but complete— that is, capable of carrying out any\n",
    "computerised task theoretically possible?"
   ]
  },
  {
   "cell_type": "code",
   "execution_count": null,
   "id": "ee40edc1-830c-4497-834c-79c62870ddcc",
   "metadata": {},
   "outputs": [],
   "source": []
  }
 ],
 "metadata": {
  "kernelspec": {
   "display_name": "Python 3 (ipykernel)",
   "language": "python",
   "name": "python3"
  },
  "language_info": {
   "codemirror_mode": {
    "name": "ipython",
    "version": 3
   },
   "file_extension": ".py",
   "mimetype": "text/x-python",
   "name": "python",
   "nbconvert_exporter": "python",
   "pygments_lexer": "ipython3",
   "version": "3.10.6"
  }
 },
 "nbformat": 4,
 "nbformat_minor": 5
}
